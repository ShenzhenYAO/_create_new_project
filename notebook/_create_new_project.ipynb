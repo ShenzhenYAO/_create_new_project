{
 "cells": [
  {
   "cell_type": "code",
   "execution_count": 1,
   "id": "e91f69c1",
   "metadata": {},
   "outputs": [
    {
     "name": "stdout",
     "output_type": "stream",
     "text": [
      "D:\\projects\\_create_new_project\n"
     ]
    }
   ],
   "source": [
    "import os\n",
    "from pathlib import Path\n",
    "\n",
    "def get_project_path():\n",
    "    if \"__file__\" in globals():\n",
    "        # Running as a .py script\n",
    "        return Path(__file__).resolve().parent\n",
    "    else:\n",
    "        # Presume running in a Jupyter notebook; use CWD’s great‐grandparent\n",
    "        return Path.cwd().resolve().parent\n",
    "\n",
    "project_path = get_project_path()\n",
    "print(project_path)"
   ]
  },
  {
   "cell_type": "markdown",
   "id": "9b661a07",
   "metadata": {},
   "source": [
    "The following is to create a json for the file structures of the project"
   ]
  },
  {
   "cell_type": "code",
   "execution_count": 2,
   "id": "2aa44bd5",
   "metadata": {},
   "outputs": [],
   "source": [
    "import json\n",
    "import os\n",
    "\n",
    "project_structure = {\n",
    "    \"<project_name>\": {\n",
    "        \"backend\": {\n",
    "            \"apps\": {\n",
    "                \"javascript\": {\"modules\": {}},\n",
    "                \"python\": {\"modules\": {}},\n",
    "                \"r\": {\"modules\": {}}\n",
    "            }\n",
    "        },\n",
    "        \"batch_files\": {},\n",
    "        \"powershell\":{},\n",
    "        \"logs\":{},\n",
    "        \"data\": {\n",
    "            \"in\": {},\n",
    "            \"out\": {}\n",
    "        },\n",
    "        \"frontend\": {\n",
    "            \"testdata\": {\n",
    "                \"in\": {},\n",
    "                \"out\": {}\n",
    "            },\n",
    "            \"apps\": {\n",
    "                \"javascript\": {\n",
    "                    \"modules\": {}\n",
    "                }\n",
    "            },\n",
    "            \"config\": {},\n",
    "            \"index.html\": None\n",
    "        },\n",
    "        \"notebooks\": {},\n",
    "        \".gitignore\": None,\n",
    "        \".env\": None,\n",
    "        \".flaskenv\": None,\n",
    "        \"README.md\": None\n",
    "    }\n",
    "}\n",
    "\n",
    "def write_structure_to_json(json_path):\n",
    "    os.makedirs(os.path.dirname(json_path), exist_ok=True)\n",
    "    with open(json_path, 'w', encoding='utf-8') as f:\n",
    "        json.dump(project_structure, f, indent=2)\n",
    "\n",
    "\n"
   ]
  },
  {
   "cell_type": "code",
   "execution_count": 3,
   "id": "856f229d",
   "metadata": {},
   "outputs": [],
   "source": [
    "# Example usage:\n",
    "json_path = f\"{project_path}/data/in/_project_structure.json\"  # Change this to your desired path\n",
    "write_structure_to_json(json_path)"
   ]
  },
  {
   "cell_type": "markdown",
   "id": "63739f2d",
   "metadata": {},
   "source": [
    "The following is a function to read such structure.josn, replace <project_name> with the input project name, and create such project under the parent folder"
   ]
  },
  {
   "cell_type": "code",
   "execution_count": null,
   "id": "11d8689a",
   "metadata": {},
   "outputs": [],
   "source": [
    "import os\n",
    "import json\n",
    "\n",
    "def create_project_from_structure(json_path, project_name, project_parent_path, ignore_str=None):\n",
    "    # Read JSON structure\n",
    "    with open(json_path, 'r', encoding='utf-8') as f:\n",
    "        structure = json.load(f)\n",
    "\n",
    "    if not ignore_str:\n",
    "        ignore_str=\"node_modules/\\ndata/\\ntestdata/\\nvenv/\\nbackend/app/sas/MyMacros.sas\\n.env\\n*.yml\\ngoogle_sheets_api_service_accoun_key.json\\noauth 2 client credential.json\\nmdbtools-win/\\nbchomes-analysis-8791ad06c20a.json\\ncredentials.json\\nconfig_ngrok.js\\nngrok/\\nvenv*/\\nlibs_external/\\n.flaskenv\\ncompleted/\\nqueue/\\nprocessing/\\nerror/\\nremote_control/\"\n",
    "\n",
    "    # Replace placeholder project name\n",
    "    if \"<project_name>\" not in structure:\n",
    "        raise ValueError(\"JSON must have '<project_name>' as the top-level key.\")\n",
    "    structure = {project_name: structure[\"<project_name>\"]}\n",
    "\n",
    "    # Create full project path under the parent\n",
    "    root = os.path.join(project_parent_path, project_name)\n",
    "    os.makedirs(root, exist_ok=True)\n",
    "\n",
    "    def create_items(base_path, item_dict, ignore_str):\n",
    "        for name, content in item_dict.items():\n",
    "            item_path = os.path.join(base_path, name)\n",
    "            if content is None:\n",
    "                os.makedirs(os.path.dirname(item_path), exist_ok=True)\n",
    "                with open(item_path, 'w', encoding='utf-8') as f:\n",
    "                    if name == \".gitignore\":\n",
    "                        f.write(ignore_str)\n",
    "                    elif name == \"README.md\":\n",
    "                        f.write(f\"# {project_name}\\n\")\n",
    "                    elif name == \".flaskenv\":\n",
    "                        f.write(\"FLASK_APP =\\nFLASK_RUN_PORT =\\n\")\n",
    "                    elif name == \"index.html\":\n",
    "                        title_text = project_name.replace(\" \", \"_\").replace(\"-\", \"_\")\n",
    "                        f.write(f\"\"\"<!DOCTYPE html>\n",
    "<html lang=\"en\">\n",
    "<head>\n",
    "    <meta charset=\"UTF-8\">\n",
    "    <meta name=\"viewport\" content=\"width=device-width, initial-scale=1.0\">\n",
    "    <title>{title_text}</title>\n",
    "</head>\n",
    "<body>\n",
    "</body>\n",
    "</html>\n",
    "\"\"\")\n",
    "            elif isinstance(content, dict):\n",
    "                os.makedirs(item_path, exist_ok=True)\n",
    "                create_items(item_path, content, ignore_str)\n",
    "\n",
    "    create_items(root, structure[project_name])\n"
   ]
  },
  {
   "cell_type": "code",
   "execution_count": 4,
   "id": "31b921d2",
   "metadata": {},
   "outputs": [],
   "source": [
    "project_structure_json_path = f\"{project_path}/data/in/_project_structure.json\"  # Change this to your desired path\n",
    "project_name = \"syndromic_surveillance\"\n",
    "project_parent_path = r\"D:\\projects\"\n",
    "create_project_from_structure(project_structure_json_path, project_name, project_parent_path)\n",
    "# create_project_from_structure(\"C:/path/to/structure.json\", \"my_project\", \"C:/projects/my_project\")\n"
   ]
  }
 ],
 "metadata": {
  "kernelspec": {
   "display_name": "Python 3",
   "language": "python",
   "name": "python3"
  },
  "language_info": {
   "codemirror_mode": {
    "name": "ipython",
    "version": 3
   },
   "file_extension": ".py",
   "mimetype": "text/x-python",
   "name": "python",
   "nbconvert_exporter": "python",
   "pygments_lexer": "ipython3",
   "version": "3.10.11"
  }
 },
 "nbformat": 4,
 "nbformat_minor": 5
}
